{
 "cells": [
  {
   "cell_type": "code",
   "execution_count": null,
   "metadata": {},
   "outputs": [],
   "source": [
    "from tkinter import *\n",
    "root = Tk(className= ' Calculator')\n",
    "root.config(bg='dark blue')\n",
    "def showText(val):\n",
    "    entry.insert(END,val)\n",
    "def removelast():\n",
    "    print(entry.get())\n",
    "    new_val=entry.get()[:-1]\n",
    "    print(new_val)\n",
    "    entry.delete('0','end')\n",
    "    entry.insert('end',new_val)\n",
    "    \n",
    "def equal_to():\n",
    "    val=eval(entry.get())\n",
    "    print(val)\n",
    "    entry.delete('0','end')\n",
    "    entry.insert('end',str(val))\n",
    "def clear():\n",
    "    entry.delete('0','end')\n",
    "\n",
    "from tkinter import(ttk)    \n",
    "\n",
    "entry=Entry(root,width=25,font='courier 18 bold')\n",
    "entry.grid(row=0,column=1,padx=10,pady=10,columnspan=4)\n",
    "\n",
    "ttk.Button(root,text='1',width=10,command=lambda:showText('1')).grid(row=1,column=1,padx=5,pady=5)  \n",
    "ttk.Button(root,text='2',width=10,command=lambda:showText('2')).grid(row=1,column=2,padx=5,pady=5)\n",
    "ttk.Button(root,text='3',width=10,command=lambda:showText('3')).grid(row=1,column=3,padx=5,pady=5)\n",
    "ttk.Button(root,text='+',width=10,command=lambda:showText('+')).grid(row=1,column=4,padx=5,pady=5)\n",
    "\n",
    "ttk.Button(root,text='4',width=10,command=lambda:showText('4')).grid(row=2,column=1,padx=5,pady=5)\n",
    "ttk.Button(root,text='5',width=10,command=lambda:showText('5')).grid(row=2,column=2,padx=5,pady=5)\n",
    "ttk.Button(root,text='6',width=10,command=lambda:showText('6')).grid(row=2,column=3,padx=5,pady=5)\n",
    "ttk.Button(root,text='-',width=10,command=lambda:showText('-')).grid(row=2,column=4,padx=5,pady=5)\n",
    "\n",
    "ttk.Button(root,text='7',width=10,command=lambda:showText('7')).grid(row=3,column=1,padx=5,pady=5)\n",
    "ttk.Button(root,text='8',width=10,command=lambda:showText('8')).grid(row=3,column=2,padx=5,pady=5)\n",
    "ttk.Button(root,text='9',width=10,command=lambda:showText('9')).grid(row=3,column=3,padx=5,pady=5)\n",
    "ttk.Button(root,text='x',width=10,command=lambda:showText('*')).grid(row=3,column=4,padx=5,pady=5)\n",
    "\n",
    "ttk.Button(root,text='.',width=10,command=lambda:showText('.')).grid(row=4,column=1,padx=5,pady=5)\n",
    "ttk.Button(root,text='0',width=10,command=lambda:showText('0')).grid(row=4,column=2,padx=5,pady=5)\n",
    "ttk.Button(root,text='c',width=10,command=removelast).grid(row=4,column=3,padx=5,pady=5)\n",
    "ttk.Button(root,text=chr(247),width=10,command=lambda:showText('/')).grid(row=4,column=4,padx=5,pady=5)\n",
    "\n",
    "ttk.Button(root,text='clear',width=23,command=clear).grid(row=5,column=1,columnspan=2,padx=5,pady=5)\n",
    "ttk.Button(root,text='=',width=23,command=equal_to).grid(row=5,column=3,columnspan=2,padx=5,pady=5)\n",
    "\n",
    "    \n",
    "root.mainloop()\n",
    "# Completed without error!!!"
   ]
  }
 ],
 "metadata": {
  "kernelspec": {
   "display_name": "Python 3",
   "language": "python",
   "name": "python3"
  },
  "language_info": {
   "codemirror_mode": {
    "name": "ipython",
    "version": 3
   },
   "file_extension": ".py",
   "mimetype": "text/x-python",
   "name": "python",
   "nbconvert_exporter": "python",
   "pygments_lexer": "ipython3",
   "version": "3.7.3"
  }
 },
 "nbformat": 4,
 "nbformat_minor": 2
}
